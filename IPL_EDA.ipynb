{
 "cells": [
  {
   "cell_type": "code",
   "execution_count": 1,
   "metadata": {},
   "outputs": [
    {
     "data": {
      "text/html": [
       "<script>requirejs.config({paths: { 'plotly': ['https://cdn.plot.ly/plotly-latest.min']},});if(!window.Plotly) {{require(['plotly'],function(plotly) {window.Plotly=plotly;});}}</script>"
      ],
      "text/vnd.plotly.v1+html": [
       "<script>requirejs.config({paths: { 'plotly': ['https://cdn.plot.ly/plotly-latest.min']},});if(!window.Plotly) {{require(['plotly'],function(plotly) {window.Plotly=plotly;});}}</script>"
      ]
     },
     "metadata": {},
     "output_type": "display_data"
    },
    {
     "data": {
      "text/html": [
       "<script>requirejs.config({paths: { 'plotly': ['https://cdn.plot.ly/plotly-latest.min']},});if(!window.Plotly) {{require(['plotly'],function(plotly) {window.Plotly=plotly;});}}</script>"
      ],
      "text/vnd.plotly.v1+html": [
       "<script>requirejs.config({paths: { 'plotly': ['https://cdn.plot.ly/plotly-latest.min']},});if(!window.Plotly) {{require(['plotly'],function(plotly) {window.Plotly=plotly;});}}</script>"
      ]
     },
     "metadata": {},
     "output_type": "display_data"
    }
   ],
   "source": [
    "import numpy as np\n",
    "import pandas as pd\n",
    "import matplotlib.pyplot as mlt\n",
    "import seaborn as sns\n",
    "mlt.style.use('fivethirtyeight')\n",
    "import plotly\n",
    "plotly.offline.init_notebook_mode(connected=True)\n",
    "import plotly.offline as py\n",
    "py.init_notebook_mode(connected=True)\n",
    "import plotly.graph_objs as go\n",
    "import plotly.tools as tls"
   ]
  },
  {
   "cell_type": "code",
   "execution_count": 2,
   "metadata": {
    "collapsed": true
   },
   "outputs": [],
   "source": [
    "import os\n",
    "os.chdir('F:/DataHackPremierLeague/train')"
   ]
  },
  {
   "cell_type": "code",
   "execution_count": 3,
   "metadata": {
    "collapsed": true
   },
   "outputs": [],
   "source": [
    "matches = pd.read_csv('match_data.csv')\n",
    "delivery = pd.read_csv('ball_by_ball_data.csv')"
   ]
  },
  {
   "cell_type": "code",
   "execution_count": 4,
   "metadata": {},
   "outputs": [
    {
     "data": {
      "text/html": [
       "<div>\n",
       "<style>\n",
       "    .dataframe thead tr:only-child th {\n",
       "        text-align: right;\n",
       "    }\n",
       "\n",
       "    .dataframe thead th {\n",
       "        text-align: left;\n",
       "    }\n",
       "\n",
       "    .dataframe tbody tr th {\n",
       "        vertical-align: top;\n",
       "    }\n",
       "</style>\n",
       "<table border=\"1\" class=\"dataframe\">\n",
       "  <thead>\n",
       "    <tr style=\"text-align: right;\">\n",
       "      <th></th>\n",
       "      <th>match_id</th>\n",
       "      <th>season</th>\n",
       "      <th>city</th>\n",
       "      <th>date</th>\n",
       "      <th>team1_id</th>\n",
       "      <th>team2_id</th>\n",
       "      <th>toss_winner</th>\n",
       "      <th>toss_decision</th>\n",
       "      <th>result</th>\n",
       "      <th>dl_applied</th>\n",
       "      <th>winner</th>\n",
       "      <th>win_by_runs</th>\n",
       "      <th>win_by_wickets</th>\n",
       "      <th>player_of_match</th>\n",
       "      <th>player_of_match_id</th>\n",
       "      <th>venue</th>\n",
       "      <th>venue_id</th>\n",
       "      <th>umpire1</th>\n",
       "      <th>umpire2</th>\n",
       "    </tr>\n",
       "  </thead>\n",
       "  <tbody>\n",
       "    <tr>\n",
       "      <th>0</th>\n",
       "      <td>2008_1</td>\n",
       "      <td>2008</td>\n",
       "      <td>Bangalore</td>\n",
       "      <td>18-04-2008</td>\n",
       "      <td>KKR</td>\n",
       "      <td>RCB</td>\n",
       "      <td>RCB</td>\n",
       "      <td>field</td>\n",
       "      <td>normal</td>\n",
       "      <td>0</td>\n",
       "      <td>KKR</td>\n",
       "      <td>140</td>\n",
       "      <td>0</td>\n",
       "      <td>Brendon McCullum</td>\n",
       "      <td>82.0</td>\n",
       "      <td>M.Chinnaswamy Stadium Bengaluru, Karnataka</td>\n",
       "      <td>7</td>\n",
       "      <td>Asad Rauf</td>\n",
       "      <td>RE Koertzen</td>\n",
       "    </tr>\n",
       "    <tr>\n",
       "      <th>1</th>\n",
       "      <td>2008_2</td>\n",
       "      <td>2008</td>\n",
       "      <td>Chandigarh</td>\n",
       "      <td>19-04-2008</td>\n",
       "      <td>CSK</td>\n",
       "      <td>KXI</td>\n",
       "      <td>CSK</td>\n",
       "      <td>bat</td>\n",
       "      <td>normal</td>\n",
       "      <td>0</td>\n",
       "      <td>CSK</td>\n",
       "      <td>33</td>\n",
       "      <td>0</td>\n",
       "      <td>Michael Hussey</td>\n",
       "      <td>18.0</td>\n",
       "      <td>I.S. Bindra Punjab Cricket Association Stadium...</td>\n",
       "      <td>9</td>\n",
       "      <td>MR Benson</td>\n",
       "      <td>SL Shastri</td>\n",
       "    </tr>\n",
       "  </tbody>\n",
       "</table>\n",
       "</div>"
      ],
      "text/plain": [
       "  match_id  season        city        date team1_id team2_id toss_winner  \\\n",
       "0   2008_1    2008   Bangalore  18-04-2008      KKR      RCB         RCB   \n",
       "1   2008_2    2008  Chandigarh  19-04-2008      CSK      KXI         CSK   \n",
       "\n",
       "  toss_decision  result  dl_applied winner  win_by_runs  win_by_wickets  \\\n",
       "0         field  normal           0    KKR          140               0   \n",
       "1           bat  normal           0    CSK           33               0   \n",
       "\n",
       "    player_of_match  player_of_match_id  \\\n",
       "0  Brendon McCullum                82.0   \n",
       "1    Michael Hussey                18.0   \n",
       "\n",
       "                                               venue  venue_id    umpire1  \\\n",
       "0         M.Chinnaswamy Stadium Bengaluru, Karnataka         7  Asad Rauf   \n",
       "1  I.S. Bindra Punjab Cricket Association Stadium...         9  MR Benson   \n",
       "\n",
       "       umpire2  \n",
       "0  RE Koertzen  \n",
       "1   SL Shastri  "
      ]
     },
     "execution_count": 4,
     "metadata": {},
     "output_type": "execute_result"
    }
   ],
   "source": [
    "matches.head(2)"
   ]
  },
  {
   "cell_type": "code",
   "execution_count": 5,
   "metadata": {},
   "outputs": [
    {
     "data": {
      "text/html": [
       "<div>\n",
       "<style>\n",
       "    .dataframe thead tr:only-child th {\n",
       "        text-align: right;\n",
       "    }\n",
       "\n",
       "    .dataframe thead th {\n",
       "        text-align: left;\n",
       "    }\n",
       "\n",
       "    .dataframe tbody tr th {\n",
       "        vertical-align: top;\n",
       "    }\n",
       "</style>\n",
       "<table border=\"1\" class=\"dataframe\">\n",
       "  <thead>\n",
       "    <tr style=\"text-align: right;\">\n",
       "      <th></th>\n",
       "      <th>match_id</th>\n",
       "      <th>inning</th>\n",
       "      <th>batting_team</th>\n",
       "      <th>bowling_team</th>\n",
       "      <th>over</th>\n",
       "      <th>ball</th>\n",
       "      <th>batsman</th>\n",
       "      <th>batsman_id</th>\n",
       "      <th>non_striker</th>\n",
       "      <th>non_striker_id</th>\n",
       "      <th>bowler</th>\n",
       "      <th>bowler_id</th>\n",
       "      <th>batsman_runs</th>\n",
       "      <th>extra_runs</th>\n",
       "      <th>player_dismissed</th>\n",
       "      <th>player_dismissed_id</th>\n",
       "      <th>dismissal_kind</th>\n",
       "      <th>is_super_over</th>\n",
       "    </tr>\n",
       "  </thead>\n",
       "  <tbody>\n",
       "    <tr>\n",
       "      <th>0</th>\n",
       "      <td>2017_1</td>\n",
       "      <td>1</td>\n",
       "      <td>SRH</td>\n",
       "      <td>RCB</td>\n",
       "      <td>1</td>\n",
       "      <td>1</td>\n",
       "      <td>David Warner</td>\n",
       "      <td>207</td>\n",
       "      <td>Shikhar Dhawan</td>\n",
       "      <td>57</td>\n",
       "      <td>Tymal Mills</td>\n",
       "      <td>621</td>\n",
       "      <td>0</td>\n",
       "      <td>0</td>\n",
       "      <td>NaN</td>\n",
       "      <td>NaN</td>\n",
       "      <td>NaN</td>\n",
       "      <td>0</td>\n",
       "    </tr>\n",
       "    <tr>\n",
       "      <th>1</th>\n",
       "      <td>2017_1</td>\n",
       "      <td>1</td>\n",
       "      <td>SRH</td>\n",
       "      <td>RCB</td>\n",
       "      <td>1</td>\n",
       "      <td>2</td>\n",
       "      <td>David Warner</td>\n",
       "      <td>207</td>\n",
       "      <td>Shikhar Dhawan</td>\n",
       "      <td>57</td>\n",
       "      <td>Tymal Mills</td>\n",
       "      <td>621</td>\n",
       "      <td>0</td>\n",
       "      <td>0</td>\n",
       "      <td>NaN</td>\n",
       "      <td>NaN</td>\n",
       "      <td>NaN</td>\n",
       "      <td>0</td>\n",
       "    </tr>\n",
       "  </tbody>\n",
       "</table>\n",
       "</div>"
      ],
      "text/plain": [
       "  match_id  inning batting_team bowling_team  over  ball       batsman  \\\n",
       "0   2017_1       1          SRH          RCB     1     1  David Warner   \n",
       "1   2017_1       1          SRH          RCB     1     2  David Warner   \n",
       "\n",
       "   batsman_id     non_striker  non_striker_id       bowler  bowler_id  \\\n",
       "0         207  Shikhar Dhawan              57  Tymal Mills        621   \n",
       "1         207  Shikhar Dhawan              57  Tymal Mills        621   \n",
       "\n",
       "   batsman_runs  extra_runs player_dismissed  player_dismissed_id  \\\n",
       "0             0           0              NaN                  NaN   \n",
       "1             0           0              NaN                  NaN   \n",
       "\n",
       "  dismissal_kind  is_super_over  \n",
       "0            NaN              0  \n",
       "1            NaN              0  "
      ]
     },
     "execution_count": 5,
     "metadata": {},
     "output_type": "execute_result"
    }
   ],
   "source": [
    "delivery.head(2)"
   ]
  },
  {
   "cell_type": "code",
   "execution_count": 6,
   "metadata": {},
   "outputs": [
    {
     "name": "stdout",
     "output_type": "stream",
     "text": [
      "Total Matches Played: 636\n",
      " \n",
      " Venues Played At: ['Bangalore' 'Chandigarh' 'Delhi' 'Mumbai' 'Kolkata' 'Jaipur' 'Hyderabad'\n",
      " 'Chennai' 'Cape Town' 'Port Elizabeth' 'Durban' 'Centurion' 'East London'\n",
      " 'Johannesburg' 'Kimberley' 'Bloemfontein' 'Ahmedabad' 'Cuttack' 'Nagpur'\n",
      " 'Dharamsala' 'Kochi' 'Indore' 'Visakhapatnam' 'Pune' 'Raipur' 'Ranchi'\n",
      " 'Abu Dhabi' 'Sharjah' nan 'Rajkot' 'Kanpur']\n",
      " \n",
      " Teams : ['KKR' 'CSK' 'RR' 'MI' 'DC' 'KXI' 'RCB' 'DD' 'KTK' 'PW' 'SRH' 'RPS' 'GL']\n"
     ]
    }
   ],
   "source": [
    "print 'Total Matches Played:',matches.shape[0]\n",
    "print ' \\n Venues Played At:',matches['city'].unique()\n",
    "print ' \\n Teams :',matches['team1_id'].unique()"
   ]
  },
  {
   "cell_type": "code",
   "execution_count": 11,
   "metadata": {},
   "outputs": [
    {
     "name": "stdout",
     "output_type": "stream",
     "text": [
      "Total number of venues played at :  30\n",
      "Total teams participated :  13\n"
     ]
    }
   ],
   "source": [
    "print 'Total number of venues played at : ', matches['city'].nunique()\n",
    "print 'Total teams participated : ',matches['team1_id'].nunique()"
   ]
  },
  {
   "cell_type": "code",
   "execution_count": 15,
   "metadata": {},
   "outputs": [
    {
     "name": "stdout",
     "output_type": "stream",
     "text": [
      "Most number of man of the matches won by:  Chris Gayle\n"
     ]
    }
   ],
   "source": [
    "print 'Most number of man of the matches won by: ',matches['player_of_match'].value_counts().idxmax()"
   ]
  },
  {
   "cell_type": "code",
   "execution_count": 25,
   "metadata": {},
   "outputs": [
    {
     "data": {
      "text/html": [
       "<div>\n",
       "<style>\n",
       "    .dataframe thead tr:only-child th {\n",
       "        text-align: right;\n",
       "    }\n",
       "\n",
       "    .dataframe thead th {\n",
       "        text-align: left;\n",
       "    }\n",
       "\n",
       "    .dataframe tbody tr th {\n",
       "        vertical-align: top;\n",
       "    }\n",
       "</style>\n",
       "<table border=\"1\" class=\"dataframe\">\n",
       "  <thead>\n",
       "    <tr style=\"text-align: right;\">\n",
       "      <th></th>\n",
       "      <th>match_id</th>\n",
       "      <th>city</th>\n",
       "      <th>team1_id</th>\n",
       "      <th>team2_id</th>\n",
       "      <th>winner</th>\n",
       "      <th>win_by_runs</th>\n",
       "    </tr>\n",
       "  </thead>\n",
       "  <tbody>\n",
       "    <tr>\n",
       "      <th>620</th>\n",
       "      <td>2017_44</td>\n",
       "      <td>Delhi</td>\n",
       "      <td>MI</td>\n",
       "      <td>DD</td>\n",
       "      <td>MI</td>\n",
       "      <td>146</td>\n",
       "    </tr>\n",
       "  </tbody>\n",
       "</table>\n",
       "</div>"
      ],
      "text/plain": [
       "    match_id   city team1_id team2_id winner  win_by_runs\n",
       "620  2017_44  Delhi       MI       DD     MI          146"
      ]
     },
     "execution_count": 25,
     "metadata": {},
     "output_type": "execute_result"
    }
   ],
   "source": [
    "df = matches.iloc[[matches['win_by_runs'].idxmax()]]\n",
    "df[['match_id','city','team1_id','team2_id','winner','win_by_runs']]"
   ]
  },
  {
   "cell_type": "code",
   "execution_count": 26,
   "metadata": {},
   "outputs": [
    {
     "data": {
      "text/html": [
       "<div>\n",
       "<style>\n",
       "    .dataframe thead tr:only-child th {\n",
       "        text-align: right;\n",
       "    }\n",
       "\n",
       "    .dataframe thead th {\n",
       "        text-align: left;\n",
       "    }\n",
       "\n",
       "    .dataframe tbody tr th {\n",
       "        vertical-align: top;\n",
       "    }\n",
       "</style>\n",
       "<table border=\"1\" class=\"dataframe\">\n",
       "  <thead>\n",
       "    <tr style=\"text-align: right;\">\n",
       "      <th></th>\n",
       "      <th>match_id</th>\n",
       "      <th>city</th>\n",
       "      <th>team1_id</th>\n",
       "      <th>team2_id</th>\n",
       "      <th>winner</th>\n",
       "      <th>win_by_wickets</th>\n",
       "    </tr>\n",
       "  </thead>\n",
       "  <tbody>\n",
       "    <tr>\n",
       "      <th>12</th>\n",
       "      <td>2008_13</td>\n",
       "      <td>Mumbai</td>\n",
       "      <td>MI</td>\n",
       "      <td>DC</td>\n",
       "      <td>DC</td>\n",
       "      <td>10</td>\n",
       "    </tr>\n",
       "  </tbody>\n",
       "</table>\n",
       "</div>"
      ],
      "text/plain": [
       "   match_id    city team1_id team2_id winner  win_by_wickets\n",
       "12  2008_13  Mumbai       MI       DC     DC              10"
      ]
     },
     "execution_count": 26,
     "metadata": {},
     "output_type": "execute_result"
    }
   ],
   "source": [
    "df = matches.iloc[[matches['win_by_wickets'].idxmax()]]\n",
    "df[['match_id','city','team1_id','team2_id','winner','win_by_wickets']]"
   ]
  },
  {
   "cell_type": "code",
   "execution_count": 33,
   "metadata": {},
   "outputs": [
    {
     "name": "stdout",
     "output_type": "stream",
     "text": [
      "Toss decisions : \n",
      "field    363\n",
      "bat      273\n",
      "Name: toss_decision, dtype: int64\n",
      "Toss decisions in percentage: \n",
      "field    57.075472\n",
      "bat      42.924528\n",
      "Name: toss_decision, dtype: float64\n"
     ]
    }
   ],
   "source": [
    "#Toss Decisions - whether the team that had won the toss chose to bat or field\n",
    "print 'Toss decisions : \\n',matches['toss_decision'].value_counts()\n",
    "print 'Toss decisions in percentage: \\n',(matches['toss_decision'].value_counts()/matches.shape[0])*100"
   ]
  },
  {
   "cell_type": "code",
   "execution_count": 39,
   "metadata": {},
   "outputs": [
    {
     "data": {
      "image/png": "[encoded data removed]",
      "text/plain": [
       "<matplotlib.figure.Figure at 0x3369ef28>"
      ]
     },
     "metadata": {},
     "output_type": "display_data"
    }
   ],
   "source": [
    "mlt.subplots(figsize=(10,6))\n",
    "sns.countplot(x='season',hue='toss_decision',data=matches)\n",
    "mlt.show()"
   ]
  },
  {
   "cell_type": "code",
   "execution_count": 58,
   "metadata": {},
   "outputs": [
    {
     "name": "stdout",
     "output_type": "stream",
     "text": [
      "Percentage of matches won by toss winners :  51.1006289308\n"
     ]
    }
   ],
   "source": [
    "toss_match_winner = matches[(matches.toss_winner == matches.winner)]\n",
    "print 'Percentage of matches won by toss winners : ',(float(toss_match_winner.shape[0])/matches.shape[0])*100"
   ]
  },
  {
   "cell_type": "code",
   "execution_count": 60,
   "metadata": {},
   "outputs": [
    {
     "name": "stdout",
     "output_type": "stream",
     "text": [
      "Percentage of matches won by team batting first:  45.1257861635\n",
      "Percentage of matches won by team fielding first:  54.8742138365\n"
     ]
    }
   ],
   "source": [
    "bat_first_won = matches[matches.win_by_runs != 0]\n",
    "print 'Percentage of matches won by team batting first: ',(float(bat_first_won.shape[0])/636)*100\n",
    "field_first_won = matches[matches.win_by_runs == 0]\n",
    "print 'Percentage of matches won by team fielding first: ',(float(field_first_won.shape[0])/636)*100"
   ]
  },
  {
   "cell_type": "code",
   "execution_count": 61,
   "metadata": {},
   "outputs": [
    {
     "data": {
      "image/png": "[encoded data removed]",
      "text/plain": [
       "<matplotlib.figure.Figure at 0x3367a278>"
      ]
     },
     "metadata": {},
     "output_type": "display_data"
    }
   ],
   "source": [
    "#Seasonwise winnings for bat first and field first\n",
    "mlt.subplots(figsize=(10,6))\n",
    "sns.countplot(x='season',data=bat_first_won)\n",
    "mlt.show()"
   ]
  },
  {
   "cell_type": "code",
   "execution_count": 62,
   "metadata": {},
   "outputs": [
    {
     "data": {
      "image/png": "[encoded data removed]",
      "text/plain": [
       "<matplotlib.figure.Figure at 0x336a9668>"
      ]
     },
     "metadata": {},
     "output_type": "display_data"
    }
   ],
   "source": [
    "#Seasonwise winnings for bat first and field first\n",
    "mlt.subplots(figsize=(10,6))\n",
    "sns.countplot(x='season',data=field_first_won)\n",
    "mlt.show()"
   ]
  },
  {
   "cell_type": "code",
   "execution_count": 27,
   "metadata": {
    "scrolled": true
   },
   "outputs": [
    {
     "data": {
      "text/html": [
       "<div>\n",
       "<style>\n",
       "    .dataframe thead tr:only-child th {\n",
       "        text-align: right;\n",
       "    }\n",
       "\n",
       "    .dataframe thead th {\n",
       "        text-align: left;\n",
       "    }\n",
       "\n",
       "    .dataframe tbody tr th {\n",
       "        vertical-align: top;\n",
       "    }\n",
       "</style>\n",
       "<table border=\"1\" class=\"dataframe\">\n",
       "  <thead>\n",
       "    <tr style=\"text-align: right;\">\n",
       "      <th></th>\n",
       "      <th>batsman</th>\n",
       "      <th>batsman_runs</th>\n",
       "    </tr>\n",
       "  </thead>\n",
       "  <tbody>\n",
       "    <tr>\n",
       "      <th>443</th>\n",
       "      <td>Virat Kohli</td>\n",
       "      <td>4423</td>\n",
       "    </tr>\n",
       "    <tr>\n",
       "      <th>334</th>\n",
       "      <td>Rohit Sharma</td>\n",
       "      <td>4207</td>\n",
       "    </tr>\n",
       "    <tr>\n",
       "      <th>142</th>\n",
       "      <td>Gautam Gambhir</td>\n",
       "      <td>4132</td>\n",
       "    </tr>\n",
       "    <tr>\n",
       "      <th>111</th>\n",
       "      <td>David Warner</td>\n",
       "      <td>4014</td>\n",
       "    </tr>\n",
       "    <tr>\n",
       "      <th>330</th>\n",
       "      <td>Robin Uthappa</td>\n",
       "      <td>3778</td>\n",
       "    </tr>\n",
       "    <tr>\n",
       "      <th>91</th>\n",
       "      <td>Chris Gayle</td>\n",
       "      <td>3651</td>\n",
       "    </tr>\n",
       "    <tr>\n",
       "      <th>375</th>\n",
       "      <td>Shikhar Dhawan</td>\n",
       "      <td>3561</td>\n",
       "    </tr>\n",
       "    <tr>\n",
       "      <th>224</th>\n",
       "      <td>Mahendra Singh Dhoni</td>\n",
       "      <td>3560</td>\n",
       "    </tr>\n",
       "    <tr>\n",
       "      <th>0</th>\n",
       "      <td>AB De Villiers</td>\n",
       "      <td>3486</td>\n",
       "    </tr>\n",
       "    <tr>\n",
       "      <th>19</th>\n",
       "      <td>Ajinkya Rahane</td>\n",
       "      <td>3057</td>\n",
       "    </tr>\n",
       "    <tr>\n",
       "      <th>457</th>\n",
       "      <td>Yusuf Pathan</td>\n",
       "      <td>2922</td>\n",
       "    </tr>\n",
       "    <tr>\n",
       "      <th>122</th>\n",
       "      <td>Dinesh Karthik</td>\n",
       "      <td>2903</td>\n",
       "    </tr>\n",
       "    <tr>\n",
       "      <th>78</th>\n",
       "      <td>Brendon McCullum</td>\n",
       "      <td>2755</td>\n",
       "    </tr>\n",
       "    <tr>\n",
       "      <th>444</th>\n",
       "      <td>Virender Sehwag</td>\n",
       "      <td>2728</td>\n",
       "    </tr>\n",
       "  </tbody>\n",
       "</table>\n",
       "</div>"
      ],
      "text/plain": [
       "                  batsman  batsman_runs\n",
       "443           Virat Kohli          4423\n",
       "334          Rohit Sharma          4207\n",
       "142        Gautam Gambhir          4132\n",
       "111          David Warner          4014\n",
       "330         Robin Uthappa          3778\n",
       "91            Chris Gayle          3651\n",
       "375        Shikhar Dhawan          3561\n",
       "224  Mahendra Singh Dhoni          3560\n",
       "0          AB De Villiers          3486\n",
       "19         Ajinkya Rahane          3057\n",
       "457          Yusuf Pathan          2922\n",
       "122        Dinesh Karthik          2903\n",
       "78       Brendon McCullum          2755\n",
       "444       Virender Sehwag          2728"
      ]
     },
     "execution_count": 27,
     "metadata": {},
     "output_type": "execute_result"
    }
   ],
   "source": [
    "top_batsmen = delivery.groupby([\"batsman\"])[\"batsman_runs\"].sum().reset_index().sort_values('batsman_runs', ascending=False)[1:15]\n",
    "top_batsmen\n"
   ]
  },
  {
   "cell_type": "code",
   "execution_count": 19,
   "metadata": {},
   "outputs": [
    {
     "data": {
      "image/png": "[encoded data removed]",
      "text/plain": [
       "<matplotlib.figure.Figure at 0x33a78550>"
      ]
     },
     "metadata": {},
     "output_type": "display_data"
    }
   ],
   "source": [
    "#Maaximum toss winners\n",
    "mlt.subplots(figsize=(10,6))\n",
    "ax = matches['toss_winner'].value_counts().plot.bar(width=0.8)\n",
    "for p in ax.patches:\n",
    "    ax.annotate(format(p.get_height()), (p.get_x()+0.15, p.get_height()+1))\n",
    "mlt.show()"
   ]
  },
  {
   "cell_type": "code",
   "execution_count": 70,
   "metadata": {},
   "outputs": [],
   "source": [
    "#Batsman vs Bowler\n",
    "def batsman_vs_bowler(batsman,bowler):\n",
    "    print batsman, ' ',bowler\n",
    "    #batsman = batsman.upper()\n",
    "    #bowler = bowler.upper()\n",
    "    data = delivery[(delivery.batsman == batsman) & (delivery.bowler == bowler)]\n",
    "    print 'Number of balls faced by ', batsman, 'in bowling of ',bowler, ' : ',data.shape[0]\n",
    "    \n",
    "    if(data.shape[0] > 0):\n",
    "        \n",
    "        runs_by_category = data['batsman_runs'].value_counts()\n",
    "        print 'Runs by category: \\n', runs_by_category\n",
    "        dismissals = data[data.dismissal_kind != 'run out']['dismissal_kind']\n",
    "        print 'Dismisses: \\n',dismissals.value_counts()\n",
    "        fig = {\n",
    "        \"data\": [\n",
    "            {\n",
    "                \"values\": runs_by_category.values ,\n",
    "                \"labels\": runs_by_category.index,\n",
    "                \"text\":\"CO2\",\n",
    "                \"textposition\":\"inside\",\n",
    "                \"domain\": {\"x\": [0, 0.5]},\n",
    "                \"name\": \"Runs\",\n",
    "                \"hoverinfo\":\"label+percent+name\",\n",
    "                \"hole\": .4,\n",
    "                \"type\": \"pie\"\n",
    "            }\n",
    "        ],\n",
    "        \"layout\":{\n",
    "            \"title\":\"Runs scored divided\",\n",
    "            \"annotations\":[\n",
    "                {\n",
    "                    \"font\": {\n",
    "                        \"size\": 15\n",
    "                    },\n",
    "                    \"showarrow\": False,\n",
    "                    \"text\": \"RUNS\",\n",
    "                    \"x\": 0.225,\n",
    "                    \"y\": 0.5\n",
    "                }\n",
    "            ]\n",
    "        }\n",
    "        }\n",
    "\n",
    "        py.iplot(fig, filename='donut')\n"
   ]
  },
  {
   "cell_type": "code",
   "execution_count": 76,
   "metadata": {},
   "outputs": [
    {
     "name": "stdout",
     "output_type": "stream",
     "text": [
      "Mahendra Singh Dhoni   B Kumar\n",
      "Number of balls faced by  Mahendra Singh Dhoni in bowling of  B Kumar  :  44\n",
      "Runs by category: \n",
      "1    16\n",
      "0    11\n",
      "2     6\n",
      "6     5\n",
      "4     5\n",
      "3     1\n",
      "Name: batsman_runs, dtype: int64\n",
      "Dismisses: \n",
      "Series([], Name: dismissal_kind, dtype: int64)\n"
     ]
    },
    {
     "data": {
      "application/vnd.plotly.v1+json": {
       "data": [
        {
         "domain": {
          "x": [
           0,
           0.5
          ]
         },
         "hole": 0.4,
         "hoverinfo": "label+percent+name",
         "labels": [
          1,
          0,
          2,
          6,
          4,
          3
         ],
         "name": "Runs",
         "text": "CO2",
         "textposition": "inside",
         "type": "pie",
         "values": [
          16,
          11,
          6,
          5,
          5,
          1
         ]
        }
       ],
       "layout": {
        "annotations": [
         {
          "font": {
           "size": 15
          },
          "showarrow": false,
          "text": "RUNS",
          "x": 0.225,
          "y": 0.5
         }
        ],
        "title": "Runs scored divided"
       }
      },
      "text/html": [
       "<div id=\"45ed8e9c-8f1a-4c3f-99e8-8731f1d27691\" style=\"height: 525px; width: 100%;\" class=\"plotly-graph-div\"></div><script type=\"text/javascript\">require([\"plotly\"], function(Plotly) { window.PLOTLYENV=window.PLOTLYENV || {};window.PLOTLYENV.BASE_URL=\"https://plot.ly\";Plotly.newPlot(\"45ed8e9c-8f1a-4c3f-99e8-8731f1d27691\", [{\"textposition\": \"inside\", \"domain\": {\"x\": [0, 0.5]}, \"name\": \"Runs\", \"text\": \"CO2\", \"labels\": [1, 0, 2, 6, 4, 3], \"values\": [16, 11, 6, 5, 5, 1], \"hoverinfo\": \"label+percent+name\", \"hole\": 0.4, \"type\": \"pie\"}], {\"annotations\": [{\"y\": 0.5, \"text\": \"RUNS\", \"font\": {\"size\": 15}, \"showarrow\": false, \"x\": 0.225}], \"title\": \"Runs scored divided\"}, {\"linkText\": \"Export to plot.ly\", \"showLink\": true})});</script>"
      ],
      "text/vnd.plotly.v1+html": [
       "<div id=\"45ed8e9c-8f1a-4c3f-99e8-8731f1d27691\" style=\"height: 525px; width: 100%;\" class=\"plotly-graph-div\"></div><script type=\"text/javascript\">require([\"plotly\"], function(Plotly) { window.PLOTLYENV=window.PLOTLYENV || {};window.PLOTLYENV.BASE_URL=\"https://plot.ly\";Plotly.newPlot(\"45ed8e9c-8f1a-4c3f-99e8-8731f1d27691\", [{\"textposition\": \"inside\", \"domain\": {\"x\": [0, 0.5]}, \"name\": \"Runs\", \"text\": \"CO2\", \"labels\": [1, 0, 2, 6, 4, 3], \"values\": [16, 11, 6, 5, 5, 1], \"hoverinfo\": \"label+percent+name\", \"hole\": 0.4, \"type\": \"pie\"}], {\"annotations\": [{\"y\": 0.5, \"text\": \"RUNS\", \"font\": {\"size\": 15}, \"showarrow\": false, \"x\": 0.225}], \"title\": \"Runs scored divided\"}, {\"linkText\": \"Export to plot.ly\", \"showLink\": true})});</script>"
      ]
     },
     "metadata": {},
     "output_type": "display_data"
    }
   ],
   "source": [
    "batsman_vs_bowler('Mahendra Singh Dhoni','B Kumar')"
   ]
  }
 ],
 "metadata": {
  "kernelspec": {
   "display_name": "Python 2",
   "language": "python",
   "name": "python2"
  },
  "language_info": {
   "codemirror_mode": {
    "name": "ipython",
    "version": 2
   },
   "file_extension": ".py",
   "mimetype": "text/x-python",
   "name": "python",
   "nbconvert_exporter": "python",
   "pygments_lexer": "ipython2",
   "version": "2.7.13"
  }
 },
 "nbformat": 4,
 "nbformat_minor": 2
}
